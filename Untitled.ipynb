{
 "cells": [
  {
   "cell_type": "code",
   "execution_count": null,
   "metadata": {},
   "outputs": [],
   "source": [
    "\n",
    "# Item Based Recommendation\n",
    "#similarity_data = hotel.drop('hotel_name', 1)\n",
    "\n",
    "# Map unique string columns to ids\n",
    "#id_cols  = ['brand_name', 'hotel_type', 'city_name', 'parent_brand_name']\n",
    "#id_unique = {}\n",
    "#for col in id_cols:\n",
    "#    id_unique[col] = hotel[col].unique()\n",
    "\n",
    "# Replace all the strings in the dataset with the ids\n",
    "#for i, hotel in similarity_data.iterrows():\n",
    "#    for col in id_cols:\n",
    "#        unique = id_unique[col]\n",
    "#        vec = [0] * len(unique)\n",
    "#        idx, = np.where(unique == hotel[col])\n",
    "#        if len(idx):\n",
    "#            vec[idx[0]] = 1\n",
    "#            similarity_data.at[i, col] = vec\n",
    "\n",
    "#hotel_similarity = pd.DataFrame(index=similarity_data.columns, columns=similarity_data.columns)\n",
    "\n",
    "# Fill empty spaces with cosine similarities\n",
    "#for i in range(0, len(similarity_data.columns)):\n",
    "#    for j in range(0, len(similarity_data.columns)):\n",
    "#        hotel_similarity.iloc[i,j] = 1 - cosine(similarity_data.iloc[:,i], similarity_data.iloc[:,j])\n",
    "\n",
    "#print(hotel_similarity.head(3))\n",
    "\n",
    "\n",
    "# Create a placeholder items for closes neighbours to an item\n",
    "#neighbors = pd.DataFrame(index=hotel_similarity.columns, columns=range(1,11))\n",
    " \n",
    "#for i in range(0, len(hotel_similarity.columns)):\n",
    "#    neighbors.iloc[i,:10] = hotel_similarity.iloc[0:,i][:10]\n",
    "        \n",
    "#print(neighbors.head(10))\n",
    "\n",
    "\n",
    "\n",
    "#neighbors = pd.DataFrame(index=hotel_similarity.columns, columns=range(1,11))\n",
    "\n",
    "# Loop through our similarity dataframe and fill in neighbouring item names\n",
    "#for i in range(0, len(hotel_similarity.columns)):\n",
    "#    neighbours.iloc[i,:10] = hotel_similarity.iloc[0:,i].order(ascending=False)[:10].index\n",
    "\n",
    "#print(neighbours.head(6).iloc[:6,2:4])"
   ]
  }
 ],
 "metadata": {
  "kernelspec": {
   "display_name": "Python 3",
   "language": "python",
   "name": "python3"
  },
  "language_info": {
   "codemirror_mode": {
    "name": "ipython",
    "version": 3
   },
   "file_extension": ".py",
   "mimetype": "text/x-python",
   "name": "python",
   "nbconvert_exporter": "python",
   "pygments_lexer": "ipython3",
   "version": "3.7.2"
  }
 },
 "nbformat": 4,
 "nbformat_minor": 2
}
